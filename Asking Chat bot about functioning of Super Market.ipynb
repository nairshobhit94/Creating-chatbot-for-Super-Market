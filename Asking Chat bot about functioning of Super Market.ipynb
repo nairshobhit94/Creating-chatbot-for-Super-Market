{
 "cells": [
  {
   "cell_type": "markdown",
   "metadata": {},
   "source": [
    "# Install chatterbot library"
   ]
  },
  {
   "cell_type": "code",
   "execution_count": 5,
   "metadata": {},
   "outputs": [
    {
     "name": "stdout",
     "output_type": "stream",
     "text": [
      "Requirement already satisfied: chatterbot in c:\\users\\robinhood\\anaconda3\\lib\\site-packages (1.0.5)\n",
      "Requirement already satisfied: spacy<2.2,>=2.1 in c:\\users\\robinhood\\anaconda3\\lib\\site-packages (from chatterbot) (2.1.4)\n",
      "Requirement already satisfied: pymongo<4.0,>=3.3 in c:\\users\\robinhood\\anaconda3\\lib\\site-packages (from chatterbot) (3.10.0)\n",
      "Requirement already satisfied: pint>=0.8.1 in c:\\users\\robinhood\\anaconda3\\lib\\site-packages (from chatterbot) (0.9)\n",
      "Requirement already satisfied: mathparse<0.2,>=0.1 in c:\\users\\robinhood\\anaconda3\\lib\\site-packages (from chatterbot) (0.1.2)\n",
      "Requirement already satisfied: pytz in c:\\users\\robinhood\\anaconda3\\lib\\site-packages (from chatterbot) (2018.4)\n",
      "Requirement already satisfied: nltk<4.0,>=3.2 in c:\\users\\robinhood\\anaconda3\\lib\\site-packages (from chatterbot) (3.3)\n",
      "Requirement already satisfied: python-dateutil<2.8,>=2.7 in c:\\users\\robinhood\\anaconda3\\lib\\site-packages (from chatterbot) (2.7.3)\n",
      "Requirement already satisfied: sqlalchemy<1.3,>=1.2 in c:\\users\\robinhood\\anaconda3\\lib\\site-packages (from chatterbot) (1.2.7)\n",
      "Requirement already satisfied: pyyaml<5.2,>=5.1 in c:\\users\\robinhood\\anaconda3\\lib\\site-packages (from chatterbot) (5.1.2)\n",
      "Requirement already satisfied: cymem<2.1.0,>=2.0.2 in c:\\users\\robinhood\\anaconda3\\lib\\site-packages (from spacy<2.2,>=2.1->chatterbot) (2.0.2)\n",
      "Requirement already satisfied: srsly<1.1.0,>=0.0.5 in c:\\users\\robinhood\\anaconda3\\lib\\site-packages (from spacy<2.2,>=2.1->chatterbot) (0.0.6)\n",
      "Requirement already satisfied: murmurhash<1.1.0,>=0.28.0 in c:\\users\\robinhood\\anaconda3\\lib\\site-packages (from spacy<2.2,>=2.1->chatterbot) (1.0.2)\n",
      "Requirement already satisfied: plac<1.0.0,>=0.9.6 in c:\\users\\robinhood\\anaconda3\\lib\\site-packages (from spacy<2.2,>=2.1->chatterbot) (0.9.6)\n",
      "Requirement already satisfied: requests<3.0.0,>=2.13.0 in c:\\users\\robinhood\\anaconda3\\lib\\site-packages (from spacy<2.2,>=2.1->chatterbot) (2.21.0)\n",
      "Requirement already satisfied: thinc<7.1.0,>=7.0.2 in c:\\users\\robinhood\\anaconda3\\lib\\site-packages (from spacy<2.2,>=2.1->chatterbot) (7.0.4)\n",
      "Requirement already satisfied: numpy>=1.15.0 in c:\\users\\robinhood\\anaconda3\\lib\\site-packages (from spacy<2.2,>=2.1->chatterbot) (1.16.1)\n",
      "Requirement already satisfied: preshed<2.1.0,>=2.0.1 in c:\\users\\robinhood\\anaconda3\\lib\\site-packages (from spacy<2.2,>=2.1->chatterbot) (2.0.1)\n",
      "Requirement already satisfied: blis<0.3.0,>=0.2.2 in c:\\users\\robinhood\\anaconda3\\lib\\site-packages (from spacy<2.2,>=2.1->chatterbot) (0.2.4)\n",
      "Requirement already satisfied: jsonschema<3.1.0,>=2.6.0 in c:\\users\\robinhood\\anaconda3\\lib\\site-packages (from spacy<2.2,>=2.1->chatterbot) (2.6.0)\n",
      "Requirement already satisfied: wasabi<1.1.0,>=0.2.0 in c:\\users\\robinhood\\anaconda3\\lib\\site-packages (from spacy<2.2,>=2.1->chatterbot) (0.2.2)\n",
      "Requirement already satisfied: six in c:\\users\\robinhood\\anaconda3\\lib\\site-packages (from nltk<4.0,>=3.2->chatterbot) (1.12.0)\n",
      "Requirement already satisfied: chardet<3.1.0,>=3.0.2 in c:\\users\\robinhood\\anaconda3\\lib\\site-packages (from requests<3.0.0,>=2.13.0->spacy<2.2,>=2.1->chatterbot) (3.0.4)\n",
      "Requirement already satisfied: urllib3<1.25,>=1.21.1 in c:\\users\\robinhood\\anaconda3\\lib\\site-packages (from requests<3.0.0,>=2.13.0->spacy<2.2,>=2.1->chatterbot) (1.22)\n",
      "Requirement already satisfied: certifi>=2017.4.17 in c:\\users\\robinhood\\anaconda3\\lib\\site-packages (from requests<3.0.0,>=2.13.0->spacy<2.2,>=2.1->chatterbot) (2019.9.11)\n",
      "Requirement already satisfied: idna<2.9,>=2.5 in c:\\users\\robinhood\\anaconda3\\lib\\site-packages (from requests<3.0.0,>=2.13.0->spacy<2.2,>=2.1->chatterbot) (2.6)\n",
      "Requirement already satisfied: tqdm<5.0.0,>=4.10.0 in c:\\users\\robinhood\\anaconda3\\lib\\site-packages (from thinc<7.1.0,>=7.0.2->spacy<2.2,>=2.1->chatterbot) (4.36.1)\n"
     ]
    }
   ],
   "source": [
    "! pip install chatterbot"
   ]
  },
  {
   "cell_type": "markdown",
   "metadata": {},
   "source": [
    "# Training the Chatbot"
   ]
  },
  {
   "cell_type": "code",
   "execution_count": 6,
   "metadata": {},
   "outputs": [
    {
     "name": "stdout",
     "output_type": "stream",
     "text": [
      "[nltk_data] Downloading package stopwords to\n",
      "[nltk_data]     C:\\Users\\Robinhood\\AppData\\Roaming\\nltk_data...\n",
      "[nltk_data]   Package stopwords is already up-to-date!\n",
      "[nltk_data] Downloading package averaged_perceptron_tagger to\n",
      "[nltk_data]     C:\\Users\\Robinhood\\AppData\\Roaming\\nltk_data...\n",
      "[nltk_data]   Package averaged_perceptron_tagger is already up-to-\n",
      "[nltk_data]       date!\n",
      "List Trainer: [####################] 100%\n"
     ]
    }
   ],
   "source": [
    "from chatterbot import ChatBot\n",
    "from chatterbot.trainers import ListTrainer\n",
    "# Create a new chatterbot named Alpha\n",
    "chatbot=ChatBot(\"Alpha\")\n",
    "trainer=ListTrainer(chatbot)\n",
    "trainer.train([\n",
    "\"Hi,can I help you?\",\n",
    "\"Sure, I would like to time of functioning of the Super Market.\",\n",
    "\"The time is 09:00 am to 08:00 pm.\"\n",
    "])\n",
    "response=chatbot.get_response(\"May I know time of functioning of the Super Market.\")"
   ]
  },
  {
   "cell_type": "markdown",
   "metadata": {},
   "source": [
    "# Running the chatbot"
   ]
  },
  {
   "cell_type": "code",
   "execution_count": 7,
   "metadata": {},
   "outputs": [
    {
     "name": "stdout",
     "output_type": "stream",
     "text": [
      "Hi, I'm veggie and I am a chatbot ;)\n",
      "Please type lowercase English language to start a conversation. Type quit to leave \n",
      ">hi\n",
      "Hello\n",
      ">what is your name?\n",
      "My name is Veggie and I'm a chatbot ?\n",
      ">how are you?\n",
      "I'm good\n",
      "How about You ?\n",
      ">I'm also doing good.\n",
      "Nice to hear that\n",
      ">who created?\n",
      "Shobhit created me using Python's NLTK library\n",
      ">how did he do that?\n",
      "I can't tell you that.Sorry!\n",
      ">what is the opening time and closing time of supermarket?\n",
      "The timing of Supermarket is 09:00 am to 08:00 pm.\n",
      ">quit\n",
      "Bye, take care. \n"
     ]
    }
   ],
   "source": [
    "from nltk.chat.util import Chat, reflections\n",
    "pairs = [\n",
    "    [\n",
    "        r\"my name is (.*)\",\n",
    "        [\"Hello %1, How are you ?\",]\n",
    "    ],\n",
    "     [\n",
    "        r\"what is your name ?\",\n",
    "        [\"My name is Veggie and I'm a chatbot ?\",]\n",
    "    ],\n",
    "    [\n",
    "        r\"how are you ?\",\n",
    "        [\"I'm good\\nHow about You ?\",]\n",
    "    ],\n",
    "    [\n",
    "        r\"sorry (.*)\",\n",
    "        [\"Its alright\",\"Its OK, never mind\",]\n",
    "    ],\n",
    "    [\n",
    "        r\"i'm (.*) doing good\",\n",
    "        [\"Nice to hear that\",\"Great that you are fyn:)\",]\n",
    "    ],\n",
    "    [\n",
    "        r\"hi|hey|hello\",\n",
    "        [\"Hello\", \"Hey there\",]\n",
    "    ],\n",
    "    [\n",
    "        r\"(.*) do you do?\",\n",
    "        [\"I'm an information provider and helps customers in solving their queries.\",]\n",
    "        \n",
    "    ],\n",
    "    [\n",
    "        r\"(.*) created ?\",\n",
    "        [\"Shobhit created me using Python's NLTK library\" ]\n",
    "    ],\n",
    "    [\n",
    "        r\"(.*) did he do that ?\",\n",
    "        [\"I can't tell you that.Sorry!\",]\n",
    "    ],\n",
    "    [\n",
    "        r\"(.*) is the opening time and closing time of supermarket?\",\n",
    "        [\"The timing of Supermarket is 09:00 am to 08:00 pm.\"]\n",
    "    ],\n",
    "    [\n",
    "        r\"(.*) it open on all days?\",\n",
    "        [\"It is open on all weekdays.\",]\n",
    "    ],\n",
    "[\n",
    "        r\"(.*) are the products that is primary available in the supermarket?\",\n",
    "        [\"We mainly sell vegetables,fruits and Grocery Items.\"]\n",
    "    ],\n",
    "    [\n",
    "        r\"(.*) you have free delivery service?\",\n",
    "        [\"Yes we do have free delivery service at home.\",]\n",
    "    ],\n",
    "    [\n",
    "        r\"(.*) you accept debit/credit card and internet banking as mode of payment?\",\n",
    "        [\"Yes we accept it\",\"Yes we do have it as mode of payment.\"]\n",
    "    ],\n",
    "    [\n",
    "        r\"(.*) you have any other query?\",\n",
    "        [\"No,thanks\",\"You have solved all my queries\",\"No,thank you so much.\"]\n",
    "    ],\n",
    "    [\n",
    "        r\"quit\",\n",
    "        [\"Bye, take care. \",\"It was nice talking to you. See you soon :)\"]\n",
    "],\n",
    "]\n",
    "def veggie():\n",
    "        print(\"Hi, I'm veggie and I am a chatbot ;)\\nPlease type lowercase English language to start a conversation. Type quit to leave \") #default message at the start\n",
    "        chat = Chat(pairs, reflections)\n",
    "        chat.converse()\n",
    "if __name__ == \"__main__\":\n",
    "    veggie()"
   ]
  },
  {
   "cell_type": "code",
   "execution_count": null,
   "metadata": {},
   "outputs": [],
   "source": []
  }
 ],
 "metadata": {
  "kernelspec": {
   "display_name": "Python 3",
   "language": "python",
   "name": "python3"
  },
  "language_info": {
   "codemirror_mode": {
    "name": "ipython",
    "version": 3
   },
   "file_extension": ".py",
   "mimetype": "text/x-python",
   "name": "python",
   "nbconvert_exporter": "python",
   "pygments_lexer": "ipython3",
   "version": "3.6.5"
  }
 },
 "nbformat": 4,
 "nbformat_minor": 2
}
